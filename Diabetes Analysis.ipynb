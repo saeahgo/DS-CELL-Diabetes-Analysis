{
 "cells": [
  {
   "cell_type": "markdown",
   "metadata": {
    "application/vnd.databricks.v1+cell": {
     "cellMetadata": {
      "byteLimit": 2048000,
      "rowLimit": 10000
     },
     "inputWidgets": {},
     "nuid": "750ace32-8ea0-4245-aa55-aa1446707a2a",
     "showTitle": false,
     "title": ""
    }
   },
   "source": [
    "# Clinical Data Evaluating Diabetes\n",
    "## Saeah Go\n",
    "The dataset consists of the following columns:\n",
    "* pregnant - number of times the patient was pregnant\n",
    "* glucose - plasma glucose concentration at 2 hours in an oral glucose tolerance test\n",
    "* diagnostic - diastolic blood pressure (mm Hg)\n",
    "* triceps - triceps skill fold thickness (mm)\n",
    "* insulin - 2-hour serum insulin (mu U/ml)\n",
    "* bmi - body mass index (weight in kg/height in meters squared)\n",
    "* diabetes - diabetes pedigree function (a number representing genetic factors)\n",
    "* age - client age in years (years)\n",
    "* test - test whether patient shows signs of diabetes (0 if negative, 1 if positive)"
   ]
  },
  {
   "cell_type": "code",
   "execution_count": 0,
   "metadata": {
    "application/vnd.databricks.v1+cell": {
     "cellMetadata": {
      "byteLimit": 2048000,
      "rowLimit": 10000
     },
     "inputWidgets": {},
     "nuid": "da795ccc-90aa-4ac4-b236-1914f6565561",
     "showTitle": false,
     "title": ""
    }
   },
   "outputs": [
    {
     "output_type": "display_data",
     "data": {
      "application/vnd.databricks.v1+bamboolib_hint": "{\"pd.DataFrames\": [], \"version\": \"0.0.1\"}",
      "text/plain": []
     },
     "metadata": {},
     "output_type": "display_data"
    },
    {
     "output_type": "display_data",
     "data": {
      "text/html": [
       "<div>\n",
       "<style scoped>\n",
       "    .dataframe tbody tr th:only-of-type {\n",
       "        vertical-align: middle;\n",
       "    }\n",
       "\n",
       "    .dataframe tbody tr th {\n",
       "        vertical-align: top;\n",
       "    }\n",
       "\n",
       "    .dataframe thead th {\n",
       "        text-align: right;\n",
       "    }\n",
       "</style>\n",
       "<table border=\"1\" class=\"dataframe\">\n",
       "  <thead>\n",
       "    <tr style=\"text-align: right;\">\n",
       "      <th></th>\n",
       "      <th>pregnant</th>\n",
       "      <th>glucose</th>\n",
       "      <th>diagnostic</th>\n",
       "      <th>triceps</th>\n",
       "      <th>insulin</th>\n",
       "      <th>bmi</th>\n",
       "      <th>diabetes</th>\n",
       "      <th>age</th>\n",
       "      <th>test</th>\n",
       "    </tr>\n",
       "  </thead>\n",
       "  <tbody>\n",
       "    <tr>\n",
       "      <th>0</th>\n",
       "      <td>6</td>\n",
       "      <td>148</td>\n",
       "      <td>72</td>\n",
       "      <td>35</td>\n",
       "      <td>0</td>\n",
       "      <td>33.6</td>\n",
       "      <td>0.627</td>\n",
       "      <td>50</td>\n",
       "      <td>1</td>\n",
       "    </tr>\n",
       "    <tr>\n",
       "      <th>1</th>\n",
       "      <td>1</td>\n",
       "      <td>85</td>\n",
       "      <td>66</td>\n",
       "      <td>29</td>\n",
       "      <td>0</td>\n",
       "      <td>26.6</td>\n",
       "      <td>0.351</td>\n",
       "      <td>31</td>\n",
       "      <td>0</td>\n",
       "    </tr>\n",
       "    <tr>\n",
       "      <th>2</th>\n",
       "      <td>8</td>\n",
       "      <td>183</td>\n",
       "      <td>64</td>\n",
       "      <td>0</td>\n",
       "      <td>0</td>\n",
       "      <td>23.3</td>\n",
       "      <td>0.672</td>\n",
       "      <td>32</td>\n",
       "      <td>1</td>\n",
       "    </tr>\n",
       "    <tr>\n",
       "      <th>3</th>\n",
       "      <td>1</td>\n",
       "      <td>89</td>\n",
       "      <td>66</td>\n",
       "      <td>23</td>\n",
       "      <td>94</td>\n",
       "      <td>28.1</td>\n",
       "      <td>0.167</td>\n",
       "      <td>21</td>\n",
       "      <td>0</td>\n",
       "    </tr>\n",
       "    <tr>\n",
       "      <th>4</th>\n",
       "      <td>0</td>\n",
       "      <td>137</td>\n",
       "      <td>40</td>\n",
       "      <td>35</td>\n",
       "      <td>168</td>\n",
       "      <td>43.1</td>\n",
       "      <td>2.288</td>\n",
       "      <td>33</td>\n",
       "      <td>1</td>\n",
       "    </tr>\n",
       "    <tr>\n",
       "      <th>5</th>\n",
       "      <td>5</td>\n",
       "      <td>116</td>\n",
       "      <td>74</td>\n",
       "      <td>0</td>\n",
       "      <td>0</td>\n",
       "      <td>25.6</td>\n",
       "      <td>0.201</td>\n",
       "      <td>30</td>\n",
       "      <td>0</td>\n",
       "    </tr>\n",
       "    <tr>\n",
       "      <th>6</th>\n",
       "      <td>3</td>\n",
       "      <td>78</td>\n",
       "      <td>50</td>\n",
       "      <td>32</td>\n",
       "      <td>88</td>\n",
       "      <td>31.0</td>\n",
       "      <td>0.248</td>\n",
       "      <td>26</td>\n",
       "      <td>1</td>\n",
       "    </tr>\n",
       "    <tr>\n",
       "      <th>7</th>\n",
       "      <td>10</td>\n",
       "      <td>115</td>\n",
       "      <td>0</td>\n",
       "      <td>0</td>\n",
       "      <td>0</td>\n",
       "      <td>35.3</td>\n",
       "      <td>0.134</td>\n",
       "      <td>29</td>\n",
       "      <td>0</td>\n",
       "    </tr>\n",
       "    <tr>\n",
       "      <th>8</th>\n",
       "      <td>2</td>\n",
       "      <td>197</td>\n",
       "      <td>70</td>\n",
       "      <td>45</td>\n",
       "      <td>543</td>\n",
       "      <td>30.5</td>\n",
       "      <td>0.158</td>\n",
       "      <td>53</td>\n",
       "      <td>1</td>\n",
       "    </tr>\n",
       "    <tr>\n",
       "      <th>9</th>\n",
       "      <td>8</td>\n",
       "      <td>125</td>\n",
       "      <td>96</td>\n",
       "      <td>0</td>\n",
       "      <td>0</td>\n",
       "      <td>0.0</td>\n",
       "      <td>0.232</td>\n",
       "      <td>54</td>\n",
       "      <td>1</td>\n",
       "    </tr>\n",
       "    <tr>\n",
       "      <th>10</th>\n",
       "      <td>4</td>\n",
       "      <td>110</td>\n",
       "      <td>92</td>\n",
       "      <td>0</td>\n",
       "      <td>0</td>\n",
       "      <td>37.6</td>\n",
       "      <td>0.191</td>\n",
       "      <td>30</td>\n",
       "      <td>0</td>\n",
       "    </tr>\n",
       "    <tr>\n",
       "      <th>11</th>\n",
       "      <td>10</td>\n",
       "      <td>168</td>\n",
       "      <td>74</td>\n",
       "      <td>0</td>\n",
       "      <td>0</td>\n",
       "      <td>38.0</td>\n",
       "      <td>0.537</td>\n",
       "      <td>34</td>\n",
       "      <td>1</td>\n",
       "    </tr>\n",
       "    <tr>\n",
       "      <th>12</th>\n",
       "      <td>10</td>\n",
       "      <td>139</td>\n",
       "      <td>80</td>\n",
       "      <td>0</td>\n",
       "      <td>0</td>\n",
       "      <td>27.1</td>\n",
       "      <td>1.441</td>\n",
       "      <td>57</td>\n",
       "      <td>0</td>\n",
       "    </tr>\n",
       "    <tr>\n",
       "      <th>13</th>\n",
       "      <td>1</td>\n",
       "      <td>189</td>\n",
       "      <td>60</td>\n",
       "      <td>23</td>\n",
       "      <td>846</td>\n",
       "      <td>30.1</td>\n",
       "      <td>0.398</td>\n",
       "      <td>59</td>\n",
       "      <td>1</td>\n",
       "    </tr>\n",
       "    <tr>\n",
       "      <th>14</th>\n",
       "      <td>5</td>\n",
       "      <td>166</td>\n",
       "      <td>72</td>\n",
       "      <td>19</td>\n",
       "      <td>175</td>\n",
       "      <td>25.8</td>\n",
       "      <td>0.587</td>\n",
       "      <td>51</td>\n",
       "      <td>1</td>\n",
       "    </tr>\n",
       "  </tbody>\n",
       "</table>\n",
       "</div>"
      ]
     },
     "metadata": {
      "application/vnd.databricks.v1+output": {
       "addedWidgets": {},
       "arguments": {},
       "data": "<div>\n<style scoped>\n    .dataframe tbody tr th:only-of-type {\n        vertical-align: middle;\n    }\n\n    .dataframe tbody tr th {\n        vertical-align: top;\n    }\n\n    .dataframe thead th {\n        text-align: right;\n    }\n</style>\n<table border=\"1\" class=\"dataframe\">\n  <thead>\n    <tr style=\"text-align: right;\">\n      <th></th>\n      <th>pregnant</th>\n      <th>glucose</th>\n      <th>diagnostic</th>\n      <th>triceps</th>\n      <th>insulin</th>\n      <th>bmi</th>\n      <th>diabetes</th>\n      <th>age</th>\n      <th>test</th>\n    </tr>\n  </thead>\n  <tbody>\n    <tr>\n      <th>0</th>\n      <td>6</td>\n      <td>148</td>\n      <td>72</td>\n      <td>35</td>\n      <td>0</td>\n      <td>33.6</td>\n      <td>0.627</td>\n      <td>50</td>\n      <td>1</td>\n    </tr>\n    <tr>\n      <th>1</th>\n      <td>1</td>\n      <td>85</td>\n      <td>66</td>\n      <td>29</td>\n      <td>0</td>\n      <td>26.6</td>\n      <td>0.351</td>\n      <td>31</td>\n      <td>0</td>\n    </tr>\n    <tr>\n      <th>2</th>\n      <td>8</td>\n      <td>183</td>\n      <td>64</td>\n      <td>0</td>\n      <td>0</td>\n      <td>23.3</td>\n      <td>0.672</td>\n      <td>32</td>\n      <td>1</td>\n    </tr>\n    <tr>\n      <th>3</th>\n      <td>1</td>\n      <td>89</td>\n      <td>66</td>\n      <td>23</td>\n      <td>94</td>\n      <td>28.1</td>\n      <td>0.167</td>\n      <td>21</td>\n      <td>0</td>\n    </tr>\n    <tr>\n      <th>4</th>\n      <td>0</td>\n      <td>137</td>\n      <td>40</td>\n      <td>35</td>\n      <td>168</td>\n      <td>43.1</td>\n      <td>2.288</td>\n      <td>33</td>\n      <td>1</td>\n    </tr>\n    <tr>\n      <th>5</th>\n      <td>5</td>\n      <td>116</td>\n      <td>74</td>\n      <td>0</td>\n      <td>0</td>\n      <td>25.6</td>\n      <td>0.201</td>\n      <td>30</td>\n      <td>0</td>\n    </tr>\n    <tr>\n      <th>6</th>\n      <td>3</td>\n      <td>78</td>\n      <td>50</td>\n      <td>32</td>\n      <td>88</td>\n      <td>31.0</td>\n      <td>0.248</td>\n      <td>26</td>\n      <td>1</td>\n    </tr>\n    <tr>\n      <th>7</th>\n      <td>10</td>\n      <td>115</td>\n      <td>0</td>\n      <td>0</td>\n      <td>0</td>\n      <td>35.3</td>\n      <td>0.134</td>\n      <td>29</td>\n      <td>0</td>\n    </tr>\n    <tr>\n      <th>8</th>\n      <td>2</td>\n      <td>197</td>\n      <td>70</td>\n      <td>45</td>\n      <td>543</td>\n      <td>30.5</td>\n      <td>0.158</td>\n      <td>53</td>\n      <td>1</td>\n    </tr>\n    <tr>\n      <th>9</th>\n      <td>8</td>\n      <td>125</td>\n      <td>96</td>\n      <td>0</td>\n      <td>0</td>\n      <td>0.0</td>\n      <td>0.232</td>\n      <td>54</td>\n      <td>1</td>\n    </tr>\n    <tr>\n      <th>10</th>\n      <td>4</td>\n      <td>110</td>\n      <td>92</td>\n      <td>0</td>\n      <td>0</td>\n      <td>37.6</td>\n      <td>0.191</td>\n      <td>30</td>\n      <td>0</td>\n    </tr>\n    <tr>\n      <th>11</th>\n      <td>10</td>\n      <td>168</td>\n      <td>74</td>\n      <td>0</td>\n      <td>0</td>\n      <td>38.0</td>\n      <td>0.537</td>\n      <td>34</td>\n      <td>1</td>\n    </tr>\n    <tr>\n      <th>12</th>\n      <td>10</td>\n      <td>139</td>\n      <td>80</td>\n      <td>0</td>\n      <td>0</td>\n      <td>27.1</td>\n      <td>1.441</td>\n      <td>57</td>\n      <td>0</td>\n    </tr>\n    <tr>\n      <th>13</th>\n      <td>1</td>\n      <td>189</td>\n      <td>60</td>\n      <td>23</td>\n      <td>846</td>\n      <td>30.1</td>\n      <td>0.398</td>\n      <td>59</td>\n      <td>1</td>\n    </tr>\n    <tr>\n      <th>14</th>\n      <td>5</td>\n      <td>166</td>\n      <td>72</td>\n      <td>19</td>\n      <td>175</td>\n      <td>25.8</td>\n      <td>0.587</td>\n      <td>51</td>\n      <td>1</td>\n    </tr>\n  </tbody>\n</table>\n</div>",
       "datasetInfos": [],
       "metadata": {},
       "removedWidgets": [],
       "textData": null,
       "type": "htmlSandbox"
      }
     },
     "output_type": "display_data"
    }
   ],
   "source": [
    "import numpy as np\n",
    "import pandas as pd\n",
    "\n",
    "# load the dataset\n",
    "data = pd.read_csv(\"/dbfs/FileStore/tables/sg5759@att.com/pima.csv\",header=0, sep=',')\n",
    "data.head(15)"
   ]
  },
  {
   "cell_type": "markdown",
   "metadata": {
    "application/vnd.databricks.v1+cell": {
     "cellMetadata": {
      "byteLimit": 2048000,
      "rowLimit": 10000
     },
     "inputWidgets": {},
     "nuid": "d134d6a7-96c8-46c3-bdcb-ef2e32851929",
     "showTitle": false,
     "title": ""
    }
   },
   "source": [
    "1. Create a summary of the dataset. What is the mean insulin amount for patients in the study? What was the 3rd quartile of BMI? Check out the minimum values for glucose, diastolic BP, triceps, insulin and bmi - you don’t have to be a doctor to recognize that something is not quite right with these numbers. Please change them to NA so they don’t factor into the averages. Then summarize the data again note how the mean insulin and the 3rd quartile of BMI change."
   ]
  },
  {
   "cell_type": "code",
   "execution_count": 0,
   "metadata": {
    "application/vnd.databricks.v1+cell": {
     "cellMetadata": {
      "byteLimit": 2048000,
      "rowLimit": 10000
     },
     "inputWidgets": {},
     "nuid": "0a408d70-6ca3-44f6-bad1-0d2e4ae43213",
     "showTitle": false,
     "title": ""
    }
   },
   "outputs": [
    {
     "output_type": "display_data",
     "data": {
      "text/html": [
       "<div>\n",
       "<style scoped>\n",
       "    .dataframe tbody tr th:only-of-type {\n",
       "        vertical-align: middle;\n",
       "    }\n",
       "\n",
       "    .dataframe tbody tr th {\n",
       "        vertical-align: top;\n",
       "    }\n",
       "\n",
       "    .dataframe thead th {\n",
       "        text-align: right;\n",
       "    }\n",
       "</style>\n",
       "<table border=\"1\" class=\"dataframe\">\n",
       "  <thead>\n",
       "    <tr style=\"text-align: right;\">\n",
       "      <th></th>\n",
       "      <th>pregnant</th>\n",
       "      <th>glucose</th>\n",
       "      <th>diagnostic</th>\n",
       "      <th>triceps</th>\n",
       "      <th>insulin</th>\n",
       "      <th>bmi</th>\n",
       "      <th>diabetes</th>\n",
       "      <th>age</th>\n",
       "      <th>test</th>\n",
       "    </tr>\n",
       "  </thead>\n",
       "  <tbody>\n",
       "    <tr>\n",
       "      <th>count</th>\n",
       "      <td>768.000000</td>\n",
       "      <td>768.000000</td>\n",
       "      <td>768.000000</td>\n",
       "      <td>768.000000</td>\n",
       "      <td>768.000000</td>\n",
       "      <td>768.000000</td>\n",
       "      <td>768.000000</td>\n",
       "      <td>768.000000</td>\n",
       "      <td>768.000000</td>\n",
       "    </tr>\n",
       "    <tr>\n",
       "      <th>mean</th>\n",
       "      <td>3.845052</td>\n",
       "      <td>120.894531</td>\n",
       "      <td>69.105469</td>\n",
       "      <td>20.536458</td>\n",
       "      <td>79.799479</td>\n",
       "      <td>31.992578</td>\n",
       "      <td>0.471876</td>\n",
       "      <td>33.240885</td>\n",
       "      <td>0.348958</td>\n",
       "    </tr>\n",
       "    <tr>\n",
       "      <th>std</th>\n",
       "      <td>3.369578</td>\n",
       "      <td>31.972618</td>\n",
       "      <td>19.355807</td>\n",
       "      <td>15.952218</td>\n",
       "      <td>115.244002</td>\n",
       "      <td>7.884160</td>\n",
       "      <td>0.331329</td>\n",
       "      <td>11.760232</td>\n",
       "      <td>0.476951</td>\n",
       "    </tr>\n",
       "    <tr>\n",
       "      <th>min</th>\n",
       "      <td>0.000000</td>\n",
       "      <td>0.000000</td>\n",
       "      <td>0.000000</td>\n",
       "      <td>0.000000</td>\n",
       "      <td>0.000000</td>\n",
       "      <td>0.000000</td>\n",
       "      <td>0.078000</td>\n",
       "      <td>21.000000</td>\n",
       "      <td>0.000000</td>\n",
       "    </tr>\n",
       "    <tr>\n",
       "      <th>25%</th>\n",
       "      <td>1.000000</td>\n",
       "      <td>99.000000</td>\n",
       "      <td>62.000000</td>\n",
       "      <td>0.000000</td>\n",
       "      <td>0.000000</td>\n",
       "      <td>27.300000</td>\n",
       "      <td>0.243750</td>\n",
       "      <td>24.000000</td>\n",
       "      <td>0.000000</td>\n",
       "    </tr>\n",
       "    <tr>\n",
       "      <th>50%</th>\n",
       "      <td>3.000000</td>\n",
       "      <td>117.000000</td>\n",
       "      <td>72.000000</td>\n",
       "      <td>23.000000</td>\n",
       "      <td>30.500000</td>\n",
       "      <td>32.000000</td>\n",
       "      <td>0.372500</td>\n",
       "      <td>29.000000</td>\n",
       "      <td>0.000000</td>\n",
       "    </tr>\n",
       "    <tr>\n",
       "      <th>75%</th>\n",
       "      <td>6.000000</td>\n",
       "      <td>140.250000</td>\n",
       "      <td>80.000000</td>\n",
       "      <td>32.000000</td>\n",
       "      <td>127.250000</td>\n",
       "      <td>36.600000</td>\n",
       "      <td>0.626250</td>\n",
       "      <td>41.000000</td>\n",
       "      <td>1.000000</td>\n",
       "    </tr>\n",
       "    <tr>\n",
       "      <th>max</th>\n",
       "      <td>17.000000</td>\n",
       "      <td>199.000000</td>\n",
       "      <td>122.000000</td>\n",
       "      <td>99.000000</td>\n",
       "      <td>846.000000</td>\n",
       "      <td>67.100000</td>\n",
       "      <td>2.420000</td>\n",
       "      <td>81.000000</td>\n",
       "      <td>1.000000</td>\n",
       "    </tr>\n",
       "  </tbody>\n",
       "</table>\n",
       "</div>"
      ]
     },
     "metadata": {
      "application/vnd.databricks.v1+output": {
       "addedWidgets": {},
       "arguments": {},
       "data": "<div>\n<style scoped>\n    .dataframe tbody tr th:only-of-type {\n        vertical-align: middle;\n    }\n\n    .dataframe tbody tr th {\n        vertical-align: top;\n    }\n\n    .dataframe thead th {\n        text-align: right;\n    }\n</style>\n<table border=\"1\" class=\"dataframe\">\n  <thead>\n    <tr style=\"text-align: right;\">\n      <th></th>\n      <th>pregnant</th>\n      <th>glucose</th>\n      <th>diagnostic</th>\n      <th>triceps</th>\n      <th>insulin</th>\n      <th>bmi</th>\n      <th>diabetes</th>\n      <th>age</th>\n      <th>test</th>\n    </tr>\n  </thead>\n  <tbody>\n    <tr>\n      <th>count</th>\n      <td>768.000000</td>\n      <td>768.000000</td>\n      <td>768.000000</td>\n      <td>768.000000</td>\n      <td>768.000000</td>\n      <td>768.000000</td>\n      <td>768.000000</td>\n      <td>768.000000</td>\n      <td>768.000000</td>\n    </tr>\n    <tr>\n      <th>mean</th>\n      <td>3.845052</td>\n      <td>120.894531</td>\n      <td>69.105469</td>\n      <td>20.536458</td>\n      <td>79.799479</td>\n      <td>31.992578</td>\n      <td>0.471876</td>\n      <td>33.240885</td>\n      <td>0.348958</td>\n    </tr>\n    <tr>\n      <th>std</th>\n      <td>3.369578</td>\n      <td>31.972618</td>\n      <td>19.355807</td>\n      <td>15.952218</td>\n      <td>115.244002</td>\n      <td>7.884160</td>\n      <td>0.331329</td>\n      <td>11.760232</td>\n      <td>0.476951</td>\n    </tr>\n    <tr>\n      <th>min</th>\n      <td>0.000000</td>\n      <td>0.000000</td>\n      <td>0.000000</td>\n      <td>0.000000</td>\n      <td>0.000000</td>\n      <td>0.000000</td>\n      <td>0.078000</td>\n      <td>21.000000</td>\n      <td>0.000000</td>\n    </tr>\n    <tr>\n      <th>25%</th>\n      <td>1.000000</td>\n      <td>99.000000</td>\n      <td>62.000000</td>\n      <td>0.000000</td>\n      <td>0.000000</td>\n      <td>27.300000</td>\n      <td>0.243750</td>\n      <td>24.000000</td>\n      <td>0.000000</td>\n    </tr>\n    <tr>\n      <th>50%</th>\n      <td>3.000000</td>\n      <td>117.000000</td>\n      <td>72.000000</td>\n      <td>23.000000</td>\n      <td>30.500000</td>\n      <td>32.000000</td>\n      <td>0.372500</td>\n      <td>29.000000</td>\n      <td>0.000000</td>\n    </tr>\n    <tr>\n      <th>75%</th>\n      <td>6.000000</td>\n      <td>140.250000</td>\n      <td>80.000000</td>\n      <td>32.000000</td>\n      <td>127.250000</td>\n      <td>36.600000</td>\n      <td>0.626250</td>\n      <td>41.000000</td>\n      <td>1.000000</td>\n    </tr>\n    <tr>\n      <th>max</th>\n      <td>17.000000</td>\n      <td>199.000000</td>\n      <td>122.000000</td>\n      <td>99.000000</td>\n      <td>846.000000</td>\n      <td>67.100000</td>\n      <td>2.420000</td>\n      <td>81.000000</td>\n      <td>1.000000</td>\n    </tr>\n  </tbody>\n</table>\n</div>",
       "datasetInfos": [],
       "metadata": {},
       "removedWidgets": [],
       "textData": null,
       "type": "htmlSandbox"
      }
     },
     "output_type": "display_data"
    }
   ],
   "source": [
    "data.describe()"
   ]
  },
  {
   "cell_type": "code",
   "execution_count": 0,
   "metadata": {
    "application/vnd.databricks.v1+cell": {
     "cellMetadata": {
      "byteLimit": 2048000,
      "rowLimit": 10000
     },
     "inputWidgets": {},
     "nuid": "0bcd58b0-bec2-44ba-bc23-923d6e0af03f",
     "showTitle": false,
     "title": ""
    }
   },
   "outputs": [
    {
     "output_type": "stream",
     "name": "stdout",
     "output_type": "stream",
     "text": [
      "Out[3]: 79.79947916666667"
     ]
    }
   ],
   "source": [
    "# the mean insulin amount for patients in the study\n",
    "data[\"insulin\"].mean()"
   ]
  },
  {
   "cell_type": "code",
   "execution_count": 0,
   "metadata": {
    "application/vnd.databricks.v1+cell": {
     "cellMetadata": {
      "byteLimit": 2048000,
      "rowLimit": 10000
     },
     "inputWidgets": {},
     "nuid": "785c8369-419e-485a-9d5b-86c196322d5a",
     "showTitle": false,
     "title": ""
    }
   },
   "outputs": [
    {
     "output_type": "stream",
     "name": "stdout",
     "output_type": "stream",
     "text": [
      "Out[4]: 36.6"
     ]
    }
   ],
   "source": [
    "# the 3rd quartile of BMI\n",
    "data[\"bmi\"].quantile(q=0.75) # 3rd quartile == 75%"
   ]
  },
  {
   "cell_type": "code",
   "execution_count": 0,
   "metadata": {
    "application/vnd.databricks.v1+cell": {
     "cellMetadata": {
      "byteLimit": 2048000,
      "rowLimit": 10000
     },
     "inputWidgets": {},
     "nuid": "d09693d8-55a8-4447-bb12-39eeccf00210",
     "showTitle": false,
     "title": ""
    }
   },
   "outputs": [
    {
     "output_type": "stream",
     "name": "stdout",
     "output_type": "stream",
     "text": [
      "0\n0\n0\n0\n0.0\n"
     ]
    }
   ],
   "source": [
    "# the minimum values for glucose, diastolic BP, triceps, insulin and bmi\n",
    "print(min(data[\"glucose\"]))\n",
    "print(min(data[\"diagnostic\"]))\n",
    "print(min(data[\"triceps\"]))\n",
    "print(min(data[\"insulin\"]))\n",
    "print(min(data[\"bmi\"]))"
   ]
  },
  {
   "cell_type": "code",
   "execution_count": 0,
   "metadata": {
    "application/vnd.databricks.v1+cell": {
     "cellMetadata": {
      "byteLimit": 2048000,
      "rowLimit": 10000
     },
     "inputWidgets": {},
     "nuid": "a7a2e93e-aa6c-45e1-8d32-590ee1d0cd55",
     "showTitle": false,
     "title": ""
    }
   },
   "outputs": [
    {
     "output_type": "stream",
     "name": "stdout",
     "output_type": "stream",
     "text": [
      "44.0\n24.0\n7.0\n14.0\n18.2\n"
     ]
    }
   ],
   "source": [
    "# change 0 values to NA so that it will not affect to the mean, quartile values\n",
    "# Replacing zeros with NaN\n",
    "data['glucose'].replace(0, np.nan, inplace=True) # inplace=True modify the original dataset directly instead of creating a new one\n",
    "data['diagnostic'].replace(0, np.nan, inplace=True)\n",
    "data['triceps'].replace(0, np.nan, inplace=True)\n",
    "data['insulin'].replace(0, np.nan, inplace=True)\n",
    "data['bmi'].replace(0, np.nan, inplace=True)\n",
    "\n",
    "# double check by checking the min value is not zero anymore\n",
    "# need to use np.min() fn because we used np.nan for the na values-- other than that if nan value is the first value of the column it cannot properly compare values (ultimately give min value as nan, which doesn't make sense)\n",
    "print(np.min(data[\"glucose\"]))\n",
    "print(np.min(data[\"diagnostic\"]))\n",
    "print(np.min(data[\"triceps\"]))\n",
    "print(np.min(data[\"insulin\"]))\n",
    "print(np.min(data[\"bmi\"]))"
   ]
  },
  {
   "cell_type": "markdown",
   "metadata": {
    "application/vnd.databricks.v1+cell": {
     "cellMetadata": {
      "byteLimit": 2048000,
      "rowLimit": 10000
     },
     "inputWidgets": {},
     "nuid": "9ff9174e-780b-4811-938d-cf51cf9320dd",
     "showTitle": false,
     "title": ""
    }
   },
   "source": [
    "Solution: \n",
    "* The mean insulin amount for patients in the study is 79.7994 mu U/ml.\n",
    "* The 3rd quartile (75%) of BMI is 36.6 kg/m2 (means there are 75 more people who have less BMI)\n",
    "* The minimum values for glucose, diastolic blood pressure, triceps, insulin and BMI are all zero.\n",
    "* After replacing the zero as NaN values, \n",
    "  * The mean insulin is: 155.5482 mu U/ml.\n",
    "  * The 3rd quartile of BMI is 36.6 kg/m2 (no change)\n"
   ]
  },
  {
   "cell_type": "code",
   "execution_count": 0,
   "metadata": {
    "application/vnd.databricks.v1+cell": {
     "cellMetadata": {
      "byteLimit": 2048000,
      "rowLimit": 10000
     },
     "inputWidgets": {},
     "nuid": "b3acaed3-05bc-4efe-9b33-86d5cc901462",
     "showTitle": false,
     "title": ""
    }
   },
   "outputs": [
    {
     "output_type": "stream",
     "name": "stdout",
     "output_type": "stream",
     "text": [
      "155.5482233502538\n36.6\n"
     ]
    }
   ],
   "source": [
    "# calculate again after removing zero values: \n",
    "print(data[\"insulin\"].mean())\n",
    "print(data[\"bmi\"].quantile(q=0.75))"
   ]
  },
  {
   "cell_type": "markdown",
   "metadata": {
    "application/vnd.databricks.v1+cell": {
     "cellMetadata": {
      "byteLimit": 2048000,
      "rowLimit": 10000
     },
     "inputWidgets": {},
     "nuid": "38c27d58-4615-4840-b46a-76745cd07f5c",
     "showTitle": false,
     "title": ""
    }
   },
   "source": [
    "2. Look at the test column… this column is set to 0 to indicate the patient does not have diabetes and 1 if they do. We prefer a “tidy” dataset, which means in part, we get rid of “coded” values. Let’s change the 0 to a “No”, and the 1 to a “Yes”. Then, recall our discussion of factors… let’s make this column categorical. You can use the dtypes function to show you have changed the test column into a categorical data type. Now determine how many in this dataset have diabetes."
   ]
  },
  {
   "cell_type": "code",
   "execution_count": 0,
   "metadata": {
    "application/vnd.databricks.v1+cell": {
     "cellMetadata": {
      "byteLimit": 2048000,
      "rowLimit": 10000
     },
     "inputWidgets": {},
     "nuid": "d889d636-302c-46dd-a323-5b3c1ab767af",
     "showTitle": false,
     "title": ""
    }
   },
   "outputs": [
    {
     "output_type": "stream",
     "name": "stdout",
     "output_type": "stream",
     "text": [
      "category\n268\n"
     ]
    }
   ],
   "source": [
    "# change numerical values to characters for the test column\n",
    "data['test'].replace(0, \"No\", inplace=True)\n",
    "data['test'].replace(1, \"Yes\", inplace=True)\n",
    "\n",
    "# make it categorical\n",
    "data['test'] = data['test'].astype('category')\n",
    "\n",
    "# check the column changed to categorical\n",
    "print(data.test.dtype)\n",
    "\n",
    "# count the number of diabetes\n",
    "print(data['test'].value_counts()['Yes'])"
   ]
  },
  {
   "cell_type": "markdown",
   "metadata": {
    "application/vnd.databricks.v1+cell": {
     "cellMetadata": {
      "byteLimit": 2048000,
      "rowLimit": 10000
     },
     "inputWidgets": {},
     "nuid": "70bbb8b7-33fa-4d9b-8217-3b607efbbc15",
     "showTitle": false,
     "title": ""
    }
   },
   "source": [
    "Solution:\n",
    "* There are 268 diabetes in this dataset."
   ]
  },
  {
   "cell_type": "markdown",
   "metadata": {
    "application/vnd.databricks.v1+cell": {
     "cellMetadata": {
      "byteLimit": 2048000,
      "rowLimit": 10000
     },
     "inputWidgets": {},
     "nuid": "742fb329-504a-4be4-92d1-147ceef29db7",
     "showTitle": false,
     "title": ""
    }
   },
   "source": [
    " 3. Finally, let’s plot glucose against diastolic blood pressure (use the plot function). Do we get normal (or near normal) distributions? Finally, create a scatterplot of glucose against diastolic… do you see any kind of correlation? To see the correlation co-efficient you can use the corr function. Syntax: df[col1]. corr(df[col2]). What is the co-efficient?"
   ]
  },
  {
   "cell_type": "code",
   "execution_count": 0,
   "metadata": {
    "application/vnd.databricks.v1+cell": {
     "cellMetadata": {
      "byteLimit": 2048000,
      "rowLimit": 10000
     },
     "inputWidgets": {},
     "nuid": "4ded0945-4978-4703-85da-7f3ea7891d80",
     "showTitle": false,
     "title": ""
    }
   },
   "outputs": [
    {
     "output_type": "display_data",
     "data": {
      "image/png": "[encoded data removed]"
     },
     "metadata": {
      "application/vnd.databricks.v1+output": {
       "addedWidgets": {},
       "arguments": {},
       "data": "data:image/png;base64,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",
       "datasetInfos": [],
       "metadata": {},
       "removedWidgets": [],
       "type": "image"
      }
     },
     "output_type": "display_data"
    }
   ],
   "source": [
    "import seaborn as sns\n",
    "import matplotlib.pyplot as plt\n",
    "\n",
    "# Create a figure and axis for the two histograms\n",
    "fig, (ax1, ax2) = plt.subplots(1, 2, figsize=(10, 4), sharey=True)\n",
    "\n",
    "# Plot the glucose histogram\n",
    "sns.histplot(data['glucose'], kde=True, ax=ax1)\n",
    "ax1.set_xlabel('Glucose')\n",
    "ax1.set_title('Glucose Distribution')\n",
    "\n",
    "# Plot the diastolic blood pressure histogram\n",
    "sns.histplot(data['diagnostic'], kde=True, ax=ax2)\n",
    "ax2.set_xlabel('Diastolic Blood Pressure')\n",
    "ax2.set_title('Diastolic Blood Pressure Distribution')\n",
    "\n",
    "# Display the plots\n",
    "plt.show()\n"
   ]
  },
  {
   "cell_type": "code",
   "execution_count": 0,
   "metadata": {
    "application/vnd.databricks.v1+cell": {
     "cellMetadata": {
      "byteLimit": 2048000,
      "rowLimit": 10000
     },
     "inputWidgets": {},
     "nuid": "5b754d82-4a17-45c0-a544-9f2bf994d090",
     "showTitle": false,
     "title": ""
    }
   },
   "outputs": [
    {
     "output_type": "stream",
     "name": "stdout",
     "output_type": "stream",
     "text": [
      "Out[10]: <matplotlib.collections.PathCollection at 0x7fb426423790>"
     ]
    },
    {
     "output_type": "display_data",
     "data": {
      "image/png": "[encoded data removed]"
     },
     "metadata": {
      "application/vnd.databricks.v1+output": {
       "addedWidgets": {},
       "arguments": {},
       "data": "data:image/png;base64,iVBORw0KGgoAAAANSUhEUgAAAXcAAAD4CAYAAAAXUaZHAAAAOXRFWHRTb2Z0d2FyZQBNYXRwbG90bGliIHZlcnNpb24zLjguMiwgaHR0cHM6Ly9tYXRwbG90bGliLm9yZy8g+/7EAAAACXBIWXMAAAsTAAALEwEAmpwYAAAb5ElEQVR4nO3df4wk513n8ffnvMTBYTZrs4Pl7K5vl2MT5EQk8Q3WcrnjTIwuti/K+g8UOeLOi7FuJWRBEiKFmEhY/IEUICLE4jBaxcY2spwYY/AK5QJmibCQzo7GwTj+FbxgHM+yzk5k4h1hnRPD9/7omqR3tqt/1O966vOSRtNT3dP9VFf3t771fZ56ShGBmZml5d+13QAzM6ueg7uZWYIc3M3MEuTgbmaWIAd3M7MEbWu7AQA7d+6MvXv3tt0MM7NeefTRR78REcuT7utEcN+7dy+rq6ttN8PMrFckPZ93n8syZmYJcnA3M0uQg7uZWYIc3M3MEjQzuEvaI+mLkp6S9KSkD2bLL5D0oKRns9/nZ8sl6RZJxyU9LunSulfCzMzONE/m/hrwkYi4BDgA3CjpEuBjwLGI2A8cy/4GuArYn/0cBm6tvNVmHbB9+3YknfWzffv2tptmNju4R8TJiPhydnsDeBrYBRwE7swedidwTXb7IHBXjDwM7JB0UdUNN2vbxsbGQsvNmrRQzV3SXuCdwCPAhRFxMrvrReDC7PYu4IWxf1vLlm19rsOSViWtrq+vL9puM8DZs1meuYO7pO8D/gj4UEScHr8vRpPCLzQxfEQciYiViFhZXp54gpXZTItmz5N2BJs/efJ2IGZdNldwl/Q9jAL73RFxf7b465vlluz3qWz5CWDP2L/vzpaZ9VIKZRYf4QzPPKNlBNwGPB0RvzV211HgUHb7EPDA2PLrslEzB4CXx8o3ZtYC9w8Mzzxzy7wL+J/AVyQ9li37ZeATwL2SbgCeB96f3fd54GrgOPAKcH2VDTYzs9lmBveI+Gsgr8B4xYTHB3BjyXaZldZmXXyR115aWuL06dOzH2i2AJ+hOlCp1GCXlpbabkJpLo1YHRzcByqVGuzp06eJiLN+qpTCDsSGx8HdbIYmdiB1y9tBeceVrk5crMOsj/ICfBfHwLumPzzO3M0GLpX+FzuTg7s1rkgw6VMAWrTU0XZppIv9L1Vu7z59dqrk4D5QbdZgiwSTugNQE+u9tLQ0sXZ/+vTpwQagPFVu7y7uvJrgmvtADbkGW3dnaBd3XjY8ztwHasiZYt2H+2Zd4OA+UM4Uz1Tl4X4XDXlnPlQO7mYDMG1n7jHwaXJwt8YVCSZDDkDT5qCvIvvOO0mrzX6ZKrf3UD877lC1xhUJGql3AC8tLRUu8/SpPDSvKrd36p+dPM7crRdSrxl3cYqD1N/z1Dm4D1TfDlUX7QCu8kSioY6Kcad7v7ksM1BDPVQtMnf6tGA2KbtuM/Bv3759oeDb1Z25lTfPZfZul3RK0hNjy94h6WFJj0lalXRZtlySbpF0XNLjki6ts/FmMLnDcahZZ+rrZ/ObpyxzB3DllmW/AfxqRLwD+JXsb4CrgP3Zz2Hg1kpaaWa5ymTf3hmka2Zwj4iHgJe2LgY2e1XeCPxTdvsgcFeMPAzskHRRVY216gy5s2zW0MK+vB9tDlnsw/szdEVr7h8C/kzSJxntIP5TtnwX8MLY49ayZSe3PoGkw4yyey6++OKCzbCihlq2WNSQ3495hmcO+f3puqKjZX4O+HBE7AE+DNy26BNExJGIWImIleXl5YLNsD7q21FD30YWVWV8eKb1T9Hgfgi4P7v9h8Bl2e0TwJ6xx+3Olpl9R9+OGrp4Bmee1Hc4Nr+iwf2fgP+a3X438Gx2+yhwXTZq5gDwckScVZIxW1SRcettnRTUVKafN/a+aydDWTtm1twl3QNcDuyUtAbcDPwv4NOStgH/j6x2DnweuBo4DrwCXF9Dmy1hk8aIFxmb3qY227qxsTGIE6xstpnBPSI+kHPXf5zw2ABuLNsoq19eZ1mV2eWiJ9TkqbJcs+gcLi5zjDTxebFq+QzVgWoiu+xqDX2SaUcHeTupvP+ZljnnlUiq2hHWpU9HTjbiuWVsULp6CbwuB3brJwd3a0XdnX5DnezLbJODuyWpSCacd5ZqyoZQM+/beRVVcXC3zpg2hHCoX9BpFj366ctY/ar17byKqrhD1Wqz6AiLaYEmL4NO/Qu6KI9qsU0O7labIWSFValqiKbfc9vk4G6DU/cFNop0DlcVlIsMw7Q0ueZuSRrqZF+pc9/L/BzcLUlNTfblQNOsIp2jQ93RuyxjVjF38nbLUPshnLlbknz4fja/H8Pi4G5Jants86KBNG9nVPfl/3yUkS4Hd+uFKuumbZ2FWmT+mqoeb8Pj4G5naLOcMe21+3Q1JCtv0bmBUu8cLcIdqnaGNssZbZdS8ix6gpGVN+399nj9+ThzHyjPmji/vKOGtnn72TQzg7uk2yWdkvTEluU/L+kZSU9K+o2x5TdJOi7pq5LeU0ejrbwimahHoKTH5Yx0zVOWuQP4HeCuzQWSfgI4CLw9Il6V9APZ8kuAa4G3Am8C/kLSmyPiX6tuuDWvzbJJ169UNI9pgbTK0k8XjiqsfTMz94h4CHhpy+KfAz4REa9mjzmVLT8IfDYiXo2I5xhdKPuyCttrA9W3wL5o529XSz/WX0Vr7m8G/oukRyT9laQfzZbvAl4Ye9xatuwskg5LWpW0ur6+XrAZ1pQmDt/bPk18UnAtGmC7Vr7qW0mtzc9C396rPEVHy2wDLgAOAD8K3CvpBxd5gog4AhwBWFlZcYrSIXkBre4OuyLzuVdp0mtsBpMqjhzaPPro6kikPG0Oce3be5WnaOa+BtwfI18C/g3YCZwA9ow9bne2zDqm7Sy5LzY2Nnr3pTaD4sH9T4CfAJD0ZuB1wDeAo8C1ks6VtA/YD3ypgnZaxabVePMOSeveIVR9OOwatg3ZzLKMpHuAy4GdktaAm4Hbgduz4ZHfAg7F6JvzpKR7gaeA14AbPVKmX6YdktYdHKs8HPYRiA3dzOAeER/Iuet/5Dz+14BfK9Mos0U4Izc7m89QtV5IvY+gyjOGPSdLOal81jy3jPVCVaMn2hoJNIs7bbsjlcnonLlb49qc18Zz6pzJO5V0ObjbGZo4JO3ieO++WVpa8mggm8plGTtD3w5J8+acWVpa6t265HHQtiIc3K3Xpg2frKLcUuUZqmZNclnGbIa2J/VKYZ4Ta56Du9kUTWXsi/Zp5LWrb8P1rD4O7tZ5bQesusegT7tG7DzPNZ7FV3mUkcrsiEPl4G6lVRkEungR7Lqz942NjVI7kHnalzedcUTkvnYqsyMOlYO7leYgUF5V71WRHa23U5o8WsZqNeQThNrgHa1tcuZunVGktj7tpCuf5GND5szdWuFAWy0fIdlWztytFVV1wLoMMT+PfBkWB3crraqhig7IzdvY2Gh9qKnVY2Zwl3S7pFPZVZe23vcRSSFpZ/a3JN0i6bikxyVdWkejrVuaPoNzfETIovKGAxaVQl2/7TNwrR7zZO53AFduXShpD/DfgK+NLb6K0XVT9wOHgVvLN9HsTHVk+KlcoAHS2OFYeTODe0Q8BLw04a5PAR8Fxj85B4G7YuRhYIekiyppqU3VxNmETbzGpOfffI06517Py15nnUDl2rV1VaGau6SDwImI+Nstd+0CXhj7ey1bNuk5DktalbS6vr5epBk2pomOxTY7Lxd9jaYz7s1ZKD1qxbpi4eAu6Tzgl4FfKfPCEXEkIlYiYmV5ebnMU/WW5+6o3ngZIu8ooIn3vK3SSB/LSFXwd+lsRca5/wdgH/C3WZayG/iypMuAE8CescfuzpbZBKkP41taWmptXRZ93b6/50Ovq6f+XSpi4cw9Ir4SET8QEXsjYi+j0sulEfEicBS4Lhs1cwB4OSJOVttk64umR2EMNWuta71T6mQeopmZu6R7gMuBnZLWgJsj4rach38euBo4DrwCXF9RO81yDTVrHep623xmBveI+MCM+/eO3Q7gxvLNskXllUDazLLyrm9aRBPrN6kzdMhZqksd/ea5ZRLR9pznk5QNAl3ITIusQyo71CYM4QLnbfH0Ay0ack1zs/7e9/egaxcX6VNgh+qODvr+OaqDM/cWOTNJ8z1oKnv2mPrvSvFzVJYzd+uFvHHMeT9t6lMpZ8iZbeoc3G1uVR76+lJwzVu0hDRtu/qEoe5zcLe5LTr/yqJBv6sBvIl6bhfXfdHzFLq4DkPm4G61KXISU9cywmkBfHw+ma6UhKbJe2/bPHW/iR3nUKcmcIdq4lIYatZ2Rtj269dp2roVWe+8cwXyPmtNfAaHOl7fmXsi8rKTNj/YeW3qk9QDQBOqfA+HmoUX4cw9EW0Gob6dOGP9NdQsvAhn7lZa218sX3moWR4+2Q8O7gPmw1srou2duc3Hwd3O0MUvrjPFeqV+6n7q65fHNXfrhS7OelmlNi9s0sSIlUVH0VSpL6PCqubMPRFVT33bpXJNF48mqtb0hU3qUvdJT0PNwotw5p6IvOykqqGHbQfYoY6SaDOj76KhZuFFOLhb7/Vt7Pwi6t5pW7pmlmUk3S7plKQnxpb9pqRnJD0u6Y8l7Ri77yZJxyV9VdJ7amq3tSCFk5LMhmKemvsdwJVblj0IvC0ifgT4O+AmAEmXANcCb83+53clnVNZa63VM/SKlAdSqCPbmSZtU2/b7pkZ3CPiIeClLcv+PCJey/58GNid3T4IfDYiXo2I5xhdKPuyCts7eIvWnlPoaEphHYbMnaDtqKLm/rPA57LbuxgF+01r2bKzSDoMHAa4+OKLK2iGTdJ2zXaR15k2NG6o5Z+6p3ZoIsC6E7QdpYZCSvo48Bpw96L/GxFHImIlIlaWl5fLNMM6oIpD9LwpdId81mybE7zlve+evKsfCmfukn4GeC9wRXz3m3wC2DP2sN3ZMuu5NofkeShgfYpM+TvUYal9Uyhzl3Ql8FHgfRHxythdR4FrJZ0raR+wH/hS+WZakxa9HJvZpi5e03ao5hkKeQ/wf4G3SFqTdAPwO8AS8KCkxyT9HkBEPAncCzwFfAG4MSL+tbbWD1BVnVNFnqdvHWMezWFDpi584FdWVmJ1dbXtZljFnLHNL+972PZ7OKldRdrUhTiTIkmPRsTKpPs8t0zPVNWZ1USnWFcz+j7xe2hFObj3TFWdWU10ilU1GdYQAlxerXpjY6PW8tLS0tLC5bYhbI8UOLhbaXlHAVV1rg19FEbdHZTTdsJ5r+3+jO5zcLfShh58+6zKoZDWLQ7uZgNX1YRwnnOmWxzcG+Az+qzLnImnycG9AV08vJ3WKeYdkVn/+WIdA7XoBF3O7sz6xZn7QPnCG/VatO6cV6uue9hhkef3UMh+cOY+UEUy8bqnnx2yvPd2aWlpoQ7JaTvoImfBujO0v5y529wc2OszrV+mqj6QtvpSPKCgHQ7uDfCZfla1qna0TeywuzigYAhclmlAldPl5s2r7h2FmY0bfObet0PGvFPFPd+6DVnfvsdNGHxw79shY1UfYmf69WpiJJJHO31X377HTRh8cO+bNj/Ebe0QvCNazKLDMN0nlKZ5rsR0u6RTkp4YW3aBpAclPZv9Pj9bLkm3SDou6XFJl9bZeCuuyp3B5nC9uuYTGXL2VcSiGX3dpT7vPNoxT+Z+B3DllmUfA45FxH7gWPY3wFWMrpu6HzgM3FpNM60LfOhrRbifqB0zg3tEPAS8tGXxQeDO7PadwDVjy++KkYeBHZIuqqitZmY2p6I19wsj4mR2+0Xgwuz2LuCFscetZcvOIumwpFVJq+vr6wWbUZ4PGc36z9/js5XuUI1RcXXhAmtEHImIlYhYWV5eLtuMwvp2yOgPsVUplc9N377HTSh6EtPXJV0UESezssupbPkJYM/Y43Zny6wiVXZyuVY+LJ4nZliKZu5HgUPZ7UPAA2PLr8tGzRwAXh4r31iHVHXx6k0ec928RWaRTCVDT0UTJ13NzNwl3QNcDuyUtAbcDHwCuFfSDcDzwPuzh38euBo4DrwCXF9ZS83sDJs70KWlpe8c0Q25DNEnTYw8mxncI+IDOXddMeGxAdxYtlHWnmlz17RVxnEJaTq/NzaJz1AdqGkX62izY8qdYmfr+0WmPe9LOzwr5EA1dULSpKDkevyw+OS3djhzt7O0mWVNem3vDOrlzDpNDu42F2dZ6XJm3bwmRjU5uJvN0KdhhM7C+6GJk64c3C0Z47NTVvmcVZ8TUCdn4bapl8Hd2Ul5TWSjTWe84xeTLiIvk5o2sqhP2vrO+MSqdvRytEyV2cn27dtzx3WnPAQvb93KBMZJz9XHILhVyllvE+uW8veoy3qZuVfJh7FncpY1PN7maRp8cLczTevoaTMIpB5o2nxvPaNimnpZlrF2tPllr7qMtFXbO4953ttpU0PMeowNj4O7FdJmX0Xea8+rqyNdZpnnfa17J2j90cuyjGuE5ZUdcdR0X8V4G+t4jbwzY5sKih4BZlXrZXCvskY41B1FnzqSu7wtqhr/vuj28M7AZhl8WcadRmeblK02NTQ0LzhWmUF3rURRpE7ep52ztWPwwd3m08RskUPQxM7LDHpalrH+c0nBrF6lgrukD0t6UtITku6R9HpJ+yQ9Ium4pM9Jel1VjbW0DaGk4J2aNaVwcJe0C/gFYCUi3gacA1wL/DrwqYj4IeCfgRuqaKhVq8udlH1SRYBuYqc21IEDQ1a2LLMN+F5J24DzgJPAu4H7svvvBK4p+RpWgyZmOhxS4Oj6UYfPQh2ewsE9Ik4AnwS+xiiovww8CnwzIl7LHrYG7Jr0/5IOS1qVtLq+vl60GTZD3pC5Rcd0FwnUVe5Airx+X6bprZpLPwblyjLnAweBfcCbgDcAV877/xFxJCJWImJleXm5aDNshiIZZdkMr46A0qc51buo60cWVr0yZZmfBJ6LiPWI+DZwP/AuYEdWpgHYDZwo2UbrqSIBJYWs0xOpWReUCe5fAw5IOk+j4/krgKeALwI/lT3mEPBAuSZaFzUZXDY2Nha+YEZVZZyIWPi5mjjK8JGMzVKm5v4Io47TLwNfyZ7rCPBLwC9KOg58P3BbBe20jhkPLk2YdhRQd0fh+LqWGXXiESvWpFJnqEbEzcDNWxb/A3BZmee1drU5/UBVys4cmafMezDtf32GqlXNZ6gmrqqssG8dcn1rb1V8dGCbHNwT1+Z49qEGlDZnbPR4dtvkicMSV1d5YpwDx5k8Y6N1gTP3xKUSUFI/Okh9/ax5ztytF1I/Okh9/ax5ztxtLn3LIPvWXrOqObjbGZaWlmrvkGsi8PoknzT58oLzc1lmwNoKdnk7Co/1tlncWT0/Z+6Jc0ddfZqYEsGsKGfuiXNHXX1mTYlg1iZn7mYZ13ItJQ7uZlO4lmt95eBundFE/4Dr3v3mPqT5ueZundFE/4BH6vSb+5Dm58zdrKBp2aLr99Y2B3ezghY9UWpa/d4n51jVSgV3STsk3SfpGUlPS/oxSRdIelDSs9nv86tqrFld2q7l+uQcq1rZzP3TwBci4oeBtwNPAx8DjkXEfuBY9rdZp3kedEtN4eAu6Y3Aj5NdIzUivhUR3wQOAndmD7sTuKZcE83MbFFlMvd9wDrw+5L+RtJnJL0BuDAiTmaPeRG4sGwjzcxsMWWC+zbgUuDWiHgn8C9sKcHEqHdpYg+TpMOSViWtrq+vl2iG9U3qnYceRWNdUCa4rwFrEfFI9vd9jIL91yVdBJD9PjXpnyPiSESsRMTK8vJyiWZY36TeeVhkFE3bHbqWnsLBPSJeBF6Q9JZs0RXAU8BR4FC27BDwQKkWWuelnok3wR26VrWyZ6j+PHC3pNcB/wBcz2iHca+kG4DngfeXfA3ruNQzcbM+KhXcI+IxYGXCXVeUeV4zMyvHZ6iamSXIwd0aN9TOw6Gut7XDs0Ja44baSTjU9bZ2OHO30pyRmnWPM3crzRmpWfc4czczS5CDu5lZghzczcwS5OBuZpYgB3czswQ5uJuZJcjB3cwsQQ7u1hmeOtisOg7u1hmeOtisOg7uZmYJcnA3M0uQg7uZWYJKB3dJ50j6G0l/mv29T9Ijko5L+lx2CT4zM2tQFZn7B4Gnx/7+deBTEfFDwD8DN1TwGjYAnjrYrDqlgruk3cB/Bz6T/S3g3cB92UPuBK4p8xo2HKdPnyYizvrxlMJmiyubuf828FHg37K/vx/4ZkS8lv29Buya9I+SDktalbS6vr5eshlmZjaucHCX9F7gVEQ8WuT/I+JIRKxExMry8nLRZpiZ2QRlrsT0LuB9kq4GXg9sBz4N7JC0LcvedwMnyjfTzMwWUThzj4ibImJ3ROwFrgX+MiJ+Gvgi8FPZww4BD5RupZmZLaSOce6/BPyipOOMavC31fAaZmY2hSKi7TYgaR14PvtzJ/CNFpvTFq/3sHi9h6eOdf/3ETGx07ITwX2cpNWIWGm7HU3zeg+L13t4ml53Tz9gZpYgB3czswR1MbgfabsBLfF6D4vXe3gaXffO1dzNzKy8LmbuZmZWkoO7mVmCWgvukvZI+qKkpyQ9KemD2fILJD0o6dns9/lttbFOQ50HX9IOSfdJekbS05J+bAjbXNKHs8/5E5LukfT6FLe5pNslnZL0xNiyidtXI7dk6/+4pEvba3k5Oev9m9nn/HFJfyxpx9h9N2Xr/VVJ76mjTW1m7q8BH4mIS4ADwI2SLgE+BhyLiP3AsezvFA11HvxPA1+IiB8G3s7oPUh6m0vaBfwCsBIRbwPOYTRlR4rb/A7gyi3L8rbvVcD+7OcwcGtDbazDHZy93g8Cb4uIHwH+DrgJIItz1wJvzf7ndyWdU3WDWgvuEXEyIr6c3d5g9CXfBRxkNA88JDof/FDnwZf0RuDHyaakiIhvRcQ3GcA2ZzRJ3/dK2gacB5wkwW0eEQ8BL21ZnLd9DwJ3xcjDjCYdvKiRhlZs0npHxJ+PTX/+MKOJFGG03p+NiFcj4jngOHBZ1W3qRM1d0l7gncAjwIURcTK760XgwrbaVaPfpuA8+D23D1gHfj8rSX1G0htIfJtHxAngk8DXGAX1l4FHGcY2h/ztuwt4YexxKb8HPwv8n+x2I+vdenCX9H3AHwEfiogzLrkTo3GaSY3VLDsPfs9tAy4Fbo2IdwL/wpYSTKLb/HxG2do+4E3AGzj7EH4QUty+s0j6OKMy9N1Nvm6rwV3S9zAK7HdHxP3Z4q9vHpplv0+11b6abM6D/4/AZxkdmn9nHvzsManOg78GrEXEI9nf9zEK9qlv858EnouI9Yj4NnA/o8/BELY55G/fE8Cesccl9x5I+hngvcBPx3dPKmpkvdscLSNGtdenI+K3xu46ymgeeEhwPvghz4MfES8CL0h6S7boCuApEt/mjMoxBySdl33uN9c7+W2eydu+R4HrslEzB4CXx8o3vSfpSkbl1/dFxCtjdx0FrpV0rqR9jDqUv1R5AyZdkLiJH+A/Mzo8exx4LPu5mlH9+RjwLPAXwAVttbGB9+By4E+z2z+YbeDjwB8C57bdvprW+R3Aarbd/wQ4fwjbHPhV4BngCeAPgHNT3ObAPYz6Fb7N6EjthrztCwj438DfA19hNJqo9XWocL2PM6qtb8a33xt7/Mez9f4qcFUdbfL0A2ZmCWq9Q9XMzKrn4G5mliAHdzOzBDm4m5klyMHdzCxBDu5mZglycDczS9D/B84P8ZcQwOp9AAAAAElFTkSuQmCC",
       "datasetInfos": [],
       "metadata": {},
       "removedWidgets": [],
       "type": "image"
      }
     },
     "output_type": "display_data"
    }
   ],
   "source": [
    "# glucose is mapped to the vertical (y-axis) and diastolic blood pressure to the horizontal (x-axis)\n",
    "\n",
    "# scatter plot\n",
    "plt.scatter(data['diagnostic'], data['glucose'], marker=\"s\", color=\"black\", s=40)"
   ]
  },
  {
   "cell_type": "code",
   "execution_count": 0,
   "metadata": {
    "application/vnd.databricks.v1+cell": {
     "cellMetadata": {
      "byteLimit": 2048000,
      "rowLimit": 10000
     },
     "inputWidgets": {},
     "nuid": "8760a9d2-175e-4aa5-8aba-3273e50dc7e3",
     "showTitle": false,
     "title": ""
    }
   },
   "outputs": [
    {
     "output_type": "stream",
     "name": "stdout",
     "output_type": "stream",
     "text": [
      "Out[11]: 0.22319177824954195"
     ]
    }
   ],
   "source": [
    "# see the correlation between x and y\n",
    "data['diagnostic'].corr(data['glucose'])"
   ]
  },
  {
   "cell_type": "markdown",
   "metadata": {
    "application/vnd.databricks.v1+cell": {
     "cellMetadata": {
      "byteLimit": 2048000,
      "rowLimit": 10000
     },
     "inputWidgets": {},
     "nuid": "5c140125-9a1e-45ee-82cd-3ca31af16b3a",
     "showTitle": false,
     "title": ""
    }
   },
   "source": [
    "Solution: \n",
    "* I would say glucose is near normal distributions, it skewed a bit to the left side but still have a bell curve shape. With the diastolic blood pressure, we get normal distribution (symmetric bell curve shape). \n",
    "* No, it is hard to see correlation between glucose and diastolic blood pressure. I can see there are a little bit positive relationship, but not a strong correlation.\n",
    "* The coefficient is 0.22, which is not a big correlation between glucose and diastolic blood pressure. Correlation coefficient is in range 1 and -1, if the number is close to 1, it means there are a huge positive correlation, if it’s close to -1, they have negative correlation, and if it’s zero, it means there are no correlation between variables."
   ]
  }
 ],
 "metadata": {
  "application/vnd.databricks.v1+notebook": {
   "dashboards": [],
   "language": "python",
   "notebookMetadata": {
    "pythonIndentUnit": 2
   },
   "notebookName": "CELL-Iteration 1 - Homework",
   "widgets": {}
  }
 },
 "nbformat": 4,
 "nbformat_minor": 0
}
